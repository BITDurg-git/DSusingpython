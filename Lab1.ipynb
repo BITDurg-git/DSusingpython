{
 "cells": [
  {
   "cell_type": "code",
   "execution_count": 4,
   "metadata": {},
   "outputs": [
    {
     "name": "stdout",
     "output_type": "stream",
     "text": [
      "Hello world\n"
     ]
    }
   ],
   "source": [
    "print(\"Hello world\")"
   ]
  },
  {
   "cell_type": "code",
   "execution_count": 5,
   "metadata": {},
   "outputs": [
    {
     "name": "stdout",
     "output_type": "stream",
     "text": [
      "--------------I/O----------------\n",
      "Enter the value of bchaitali\n",
      "Enter the value of c5\n"
     ]
    }
   ],
   "source": [
    "print(\"--------------I/O----------------\")\n",
    "a=3\n",
    "b=input(\"Enter the value of b\")\n",
    "c=int(input(\"Enter the value of c\"))"
   ]
  },
  {
   "cell_type": "code",
   "execution_count": 6,
   "metadata": {},
   "outputs": [
    {
     "name": "stdout",
     "output_type": "stream",
     "text": [
      "-------------If---------\n",
      "Hello 3\n",
      "B: chaitali\n",
      "C: 5\n"
     ]
    }
   ],
   "source": [
    "#if\n",
    "print(\"-------------If---------\")\n",
    "if a==3: \n",
    "    #indentation\n",
    "    print(\"Hello\",a)\n",
    "print(\"B:\",b)\n",
    "print(\"C:\",c)\n"
   ]
  },
  {
   "cell_type": "code",
   "execution_count": 7,
   "metadata": {},
   "outputs": [
    {
     "name": "stdout",
     "output_type": "stream",
     "text": [
      "----------IF/ELSE-----------\n",
      "Hello else\n"
     ]
    }
   ],
   "source": [
    "#if else\n",
    "print(\"----------IF/ELSE-----------\")\n",
    "if a!=3:\n",
    "    print(\"Hello if\")\n",
    "else:\n",
    "    print(\"Hello else\")"
   ]
  },
  {
   "cell_type": "code",
   "execution_count": 8,
   "metadata": {},
   "outputs": [
    {
     "name": "stdout",
     "output_type": "stream",
     "text": [
      "----------ELIF-----------\n",
      "A: 3\n"
     ]
    }
   ],
   "source": [
    "\n",
    "#elif\n",
    "print(\"----------ELIF-----------\")\n",
    "if a==1:\n",
    "    print(\"one\")\n",
    "elif a==2:\n",
    "    print(\"two\")\n",
    "else:\n",
    "    print(\"A:\",a)"
   ]
  },
  {
   "cell_type": "code",
   "execution_count": 9,
   "metadata": {},
   "outputs": [
    {
     "name": "stdout",
     "output_type": "stream",
     "text": [
      "---------For loop--------------\n",
      "1\n",
      "3\n",
      "5\n",
      "7\n",
      "9\n"
     ]
    }
   ],
   "source": [
    "#for loop\n",
    "print(\"---------For loop--------------\")\n",
    "for i in range(1,10,2):\n",
    "    print(i)"
   ]
  },
  {
   "cell_type": "code",
   "execution_count": 10,
   "metadata": {},
   "outputs": [
    {
     "name": "stdout",
     "output_type": "stream",
     "text": [
      "-----------While loop----------\n",
      "1\n",
      "3\n",
      "5\n",
      "7\n",
      "9\n"
     ]
    }
   ],
   "source": [
    "#while loop\n",
    "print(\"-----------While loop----------\")\n",
    "i=1\n",
    "while i<10:\n",
    "    print(i)\n",
    "    i=i+2"
   ]
  },
  {
   "cell_type": "code",
   "execution_count": 12,
   "metadata": {},
   "outputs": [
    {
     "name": "stdout",
     "output_type": "stream",
     "text": [
      "array('i', [3, 6, 9, 12])\n",
      "<class 'array.array'>\n"
     ]
    }
   ],
   "source": [
    "import array as arr\n",
    "array_1 = arr.array(\"i\",[3, 6, 9, 12])\n",
    "print(array_1)\n",
    "print(type(array_1))"
   ]
  },
  {
   "cell_type": "code",
   "execution_count": 14,
   "metadata": {},
   "outputs": [
    {
     "name": "stdout",
     "output_type": "stream",
     "text": [
      "['numbers' '3' '6' '9' '12']\n",
      "<class 'numpy.ndarray'>\n"
     ]
    }
   ],
   "source": [
    "import numpy as np\n",
    "array_2 = np.array([\"numbers\", 3, 6, 9, 12])\n",
    "print (array_2)\n",
    "print(type(array_2))"
   ]
  },
  {
   "cell_type": "code",
   "execution_count": null,
   "metadata": {},
   "outputs": [],
   "source": []
  }
 ],
 "metadata": {
  "kernelspec": {
   "display_name": "Python 3",
   "language": "python",
   "name": "python3"
  },
  "language_info": {
   "codemirror_mode": {
    "name": "ipython",
    "version": 3
   },
   "file_extension": ".py",
   "mimetype": "text/x-python",
   "name": "python",
   "nbconvert_exporter": "python",
   "pygments_lexer": "ipython3",
   "version": "3.6.10"
  }
 },
 "nbformat": 4,
 "nbformat_minor": 4
}
